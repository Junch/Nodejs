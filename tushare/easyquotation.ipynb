{
 "cells": [
  {
   "cell_type": "code",
   "execution_count": 1,
   "metadata": {},
   "outputs": [],
   "source": [
    "import easyquotation\n",
    "quotation = easyquotation.use('sina')"
   ]
  },
  {
   "cell_type": "code",
   "execution_count": 4,
   "metadata": {},
   "outputs": [
    {
     "data": {
      "text/plain": [
       "{'000651': {'ask1': 57.41,\n",
       "  'ask1_volume': 9800,\n",
       "  'ask2': 57.42,\n",
       "  'ask2_volume': 50501,\n",
       "  'ask3': 57.43,\n",
       "  'ask3_volume': 41056,\n",
       "  'ask4': 57.44,\n",
       "  'ask4_volume': 64000,\n",
       "  'ask5': 57.45,\n",
       "  'ask5_volume': 38227,\n",
       "  'bid1': 57.4,\n",
       "  'bid1_volume': 23199,\n",
       "  'bid2': 57.39,\n",
       "  'bid2_volume': 130774,\n",
       "  'bid3': 57.38,\n",
       "  'bid3_volume': 35500,\n",
       "  'bid4': 57.37,\n",
       "  'bid4_volume': 2500,\n",
       "  'bid5': 57.36,\n",
       "  'bid5_volume': 5100,\n",
       "  'buy': 57.4,\n",
       "  'close': 55.4,\n",
       "  'date': '2018-01-26',\n",
       "  'high': 58.7,\n",
       "  'low': 54.77,\n",
       "  'name': '格力电器',\n",
       "  'now': 57.4,\n",
       "  'open': 55.01,\n",
       "  'sell': 57.41,\n",
       "  'time': '15:29:03',\n",
       "  'turnover': 86782919,\n",
       "  'volume': 4941356665.7},\n",
       " '601318': {'ask1': 76.13,\n",
       "  'ask1_volume': 300,\n",
       "  'ask2': 76.14,\n",
       "  'ask2_volume': 28000,\n",
       "  'ask3': 76.15,\n",
       "  'ask3_volume': 70300,\n",
       "  'ask4': 76.16,\n",
       "  'ask4_volume': 5000,\n",
       "  'ask5': 76.17,\n",
       "  'ask5_volume': 2900,\n",
       "  'bid1': 76.12,\n",
       "  'bid1_volume': 7000,\n",
       "  'bid2': 76.11,\n",
       "  'bid2_volume': 34700,\n",
       "  'bid3': 76.1,\n",
       "  'bid3_volume': 69000,\n",
       "  'bid4': 76.09,\n",
       "  'bid4_volume': 49300,\n",
       "  'bid5': 76.08,\n",
       "  'bid5_volume': 15000,\n",
       "  'buy': 76.12,\n",
       "  'close': 75.29,\n",
       "  'date': '2018-01-26',\n",
       "  'high': 76.85,\n",
       "  'low': 75.21,\n",
       "  'name': '中国平安',\n",
       "  'now': 76.1,\n",
       "  'open': 75.3,\n",
       "  'sell': 76.13,\n",
       "  'time': '15:00:00',\n",
       "  'turnover': 112554650,\n",
       "  'volume': 8558720967.0}}"
      ]
     },
     "execution_count": 4,
     "metadata": {},
     "output_type": "execute_result"
    }
   ],
   "source": [
    "quotation.stocks(['000651', '601318'])"
   ]
  },
  {
   "cell_type": "code",
   "execution_count": null,
   "metadata": {},
   "outputs": [],
   "source": []
  }
 ],
 "metadata": {
  "kernelspec": {
   "display_name": "Python 3",
   "language": "python",
   "name": "python3"
  },
  "language_info": {
   "codemirror_mode": {
    "name": "ipython",
    "version": 3
   },
   "file_extension": ".py",
   "mimetype": "text/x-python",
   "name": "python",
   "nbconvert_exporter": "python",
   "pygments_lexer": "ipython3",
   "version": "3.6.4"
  }
 },
 "nbformat": 4,
 "nbformat_minor": 2
}
