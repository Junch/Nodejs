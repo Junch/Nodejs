{
 "cells": [
  {
   "cell_type": "code",
   "execution_count": 1,
   "metadata": {},
   "outputs": [],
   "source": [
    "import tushare as ts\n",
    "import pandas as pd\n",
    "import numpy as np"
   ]
  },
  {
   "cell_type": "code",
   "execution_count": 2,
   "metadata": {},
   "outputs": [
    {
     "name": "stdout",
     "output_type": "stream",
     "text": [
      "[Getting data:]##########################################################[Getting data:]##########################################################"
     ]
    }
   ],
   "source": [
    "frames = []\n",
    "arr = [(2017,3), (2017,2)]\n",
    "for item in arr:\n",
    "    df = ts.get_profit_data(item[0], item[1])\n",
    "    df.set_index('code', inplace=True)\n",
    "    frames.append(df)\n",
    "\n",
    "quaters = ['{}-{}'.format(x,y) for (x, y) in arr]\n",
    "df = pd.concat(frames, keys=quaters)"
   ]
  },
  {
   "cell_type": "code",
   "execution_count": 5,
   "metadata": {},
   "outputs": [
    {
     "data": {
      "text/plain": [
       "Index([u'name', u'roe', u'net_profit_ratio', u'gross_profit_rate',\n",
       "       u'net_profits', u'eps', u'business_income', u'bips'],\n",
       "      dtype='object')"
      ]
     },
     "execution_count": 5,
     "metadata": {},
     "output_type": "execute_result"
    }
   ],
   "source": [
    "df.columns"
   ]
  },
  {
   "cell_type": "code",
   "execution_count": 7,
   "metadata": {},
   "outputs": [
    {
     "data": {
      "text/html": [
       "<div>\n",
       "<style scoped>\n",
       "    .dataframe tbody tr th:only-of-type {\n",
       "        vertical-align: middle;\n",
       "    }\n",
       "\n",
       "    .dataframe tbody tr th {\n",
       "        vertical-align: top;\n",
       "    }\n",
       "\n",
       "    .dataframe thead th {\n",
       "        text-align: right;\n",
       "    }\n",
       "</style>\n",
       "<table border=\"1\" class=\"dataframe\">\n",
       "  <thead>\n",
       "    <tr style=\"text-align: right;\">\n",
       "      <th></th>\n",
       "      <th></th>\n",
       "      <th>name</th>\n",
       "      <th>roe</th>\n",
       "      <th>net_profit_ratio</th>\n",
       "      <th>gross_profit_rate</th>\n",
       "      <th>net_profits</th>\n",
       "      <th>eps</th>\n",
       "      <th>business_income</th>\n",
       "      <th>bips</th>\n",
       "    </tr>\n",
       "    <tr>\n",
       "      <th></th>\n",
       "      <th>code</th>\n",
       "      <th></th>\n",
       "      <th></th>\n",
       "      <th></th>\n",
       "      <th></th>\n",
       "      <th></th>\n",
       "      <th></th>\n",
       "      <th></th>\n",
       "      <th></th>\n",
       "    </tr>\n",
       "  </thead>\n",
       "  <tbody>\n",
       "    <tr>\n",
       "      <th rowspan=\"3\" valign=\"top\">2017-3</th>\n",
       "      <th>000717</th>\n",
       "      <td>韶钢松山</td>\n",
       "      <td>79.22</td>\n",
       "      <td>9.44</td>\n",
       "      <td>14.1042</td>\n",
       "      <td>1750.2624</td>\n",
       "      <td>0.7233</td>\n",
       "      <td>18534.1754</td>\n",
       "      <td>7.6602</td>\n",
       "    </tr>\n",
       "    <tr>\n",
       "      <th>600793</th>\n",
       "      <td>宜宾纸业</td>\n",
       "      <td>65.40</td>\n",
       "      <td>13.31</td>\n",
       "      <td>7.9084</td>\n",
       "      <td>100.6484</td>\n",
       "      <td>0.9558</td>\n",
       "      <td>755.8083</td>\n",
       "      <td>7.1776</td>\n",
       "    </tr>\n",
       "    <tr>\n",
       "      <th>600306</th>\n",
       "      <td>商业城</td>\n",
       "      <td>63.19</td>\n",
       "      <td>18.55</td>\n",
       "      <td>17.8601</td>\n",
       "      <td>114.9175</td>\n",
       "      <td>0.6451</td>\n",
       "      <td>619.3852</td>\n",
       "      <td>3.4769</td>\n",
       "    </tr>\n",
       "  </tbody>\n",
       "</table>\n",
       "</div>"
      ],
      "text/plain": [
       "               name    roe  net_profit_ratio  gross_profit_rate  net_profits  \\\n",
       "       code                                                                    \n",
       "2017-3 000717  韶钢松山  79.22              9.44            14.1042    1750.2624   \n",
       "       600793  宜宾纸业  65.40             13.31             7.9084     100.6484   \n",
       "       600306   商业城  63.19             18.55            17.8601     114.9175   \n",
       "\n",
       "                  eps  business_income    bips  \n",
       "       code                                     \n",
       "2017-3 000717  0.7233       18534.1754  7.6602  \n",
       "       600793  0.9558         755.8083  7.1776  \n",
       "       600306  0.6451         619.3852  3.4769  "
      ]
     },
     "execution_count": 7,
     "metadata": {},
     "output_type": "execute_result"
    }
   ],
   "source": [
    "df.head(3)"
   ]
  },
  {
   "cell_type": "code",
   "execution_count": 8,
   "metadata": {},
   "outputs": [
    {
     "data": {
      "text/html": [
       "<div>\n",
       "<style scoped>\n",
       "    .dataframe tbody tr th:only-of-type {\n",
       "        vertical-align: middle;\n",
       "    }\n",
       "\n",
       "    .dataframe tbody tr th {\n",
       "        vertical-align: top;\n",
       "    }\n",
       "\n",
       "    .dataframe thead th {\n",
       "        text-align: right;\n",
       "    }\n",
       "</style>\n",
       "<table border=\"1\" class=\"dataframe\">\n",
       "  <thead>\n",
       "    <tr style=\"text-align: right;\">\n",
       "      <th></th>\n",
       "      <th></th>\n",
       "      <th>name</th>\n",
       "      <th>roe</th>\n",
       "      <th>net_profit_ratio</th>\n",
       "      <th>gross_profit_rate</th>\n",
       "      <th>net_profits</th>\n",
       "      <th>eps</th>\n",
       "      <th>business_income</th>\n",
       "      <th>bips</th>\n",
       "    </tr>\n",
       "    <tr>\n",
       "      <th></th>\n",
       "      <th>code</th>\n",
       "      <th></th>\n",
       "      <th></th>\n",
       "      <th></th>\n",
       "      <th></th>\n",
       "      <th></th>\n",
       "      <th></th>\n",
       "      <th></th>\n",
       "      <th></th>\n",
       "    </tr>\n",
       "  </thead>\n",
       "  <tbody>\n",
       "    <tr>\n",
       "      <th rowspan=\"3\" valign=\"top\">2017-2</th>\n",
       "      <th>600678</th>\n",
       "      <td>四川金顶</td>\n",
       "      <td>NaN</td>\n",
       "      <td>-8.77</td>\n",
       "      <td>22.1507</td>\n",
       "      <td>-5.5103</td>\n",
       "      <td>-0.0157</td>\n",
       "      <td>62.8067</td>\n",
       "      <td>0.1799</td>\n",
       "    </tr>\n",
       "    <tr>\n",
       "      <th>002306</th>\n",
       "      <td>*ST云网</td>\n",
       "      <td>NaN</td>\n",
       "      <td>-17.42</td>\n",
       "      <td>44.6525</td>\n",
       "      <td>-8.4833</td>\n",
       "      <td>-0.0106</td>\n",
       "      <td>48.6773</td>\n",
       "      <td>0.0608</td>\n",
       "    </tr>\n",
       "    <tr>\n",
       "      <th>601005</th>\n",
       "      <td>*ST重钢</td>\n",
       "      <td>NaN</td>\n",
       "      <td>-22.08</td>\n",
       "      <td>2.4086</td>\n",
       "      <td>-998.4820</td>\n",
       "      <td>-0.2250</td>\n",
       "      <td>4521.7270</td>\n",
       "      <td>1.0193</td>\n",
       "    </tr>\n",
       "  </tbody>\n",
       "</table>\n",
       "</div>"
      ],
      "text/plain": [
       "                name  roe  net_profit_ratio  gross_profit_rate  net_profits  \\\n",
       "       code                                                                   \n",
       "2017-2 600678   四川金顶  NaN             -8.77            22.1507      -5.5103   \n",
       "       002306  *ST云网  NaN            -17.42            44.6525      -8.4833   \n",
       "       601005  *ST重钢  NaN            -22.08             2.4086    -998.4820   \n",
       "\n",
       "                  eps  business_income    bips  \n",
       "       code                                     \n",
       "2017-2 600678 -0.0157          62.8067  0.1799  \n",
       "       002306 -0.0106          48.6773  0.0608  \n",
       "       601005 -0.2250        4521.7270  1.0193  "
      ]
     },
     "execution_count": 8,
     "metadata": {},
     "output_type": "execute_result"
    }
   ],
   "source": [
    "df.tail(3)"
   ]
  },
  {
   "cell_type": "code",
   "execution_count": 14,
   "metadata": {},
   "outputs": [
    {
     "data": {
      "text/plain": [
       "FrozenList([None, u'code'])"
      ]
     },
     "execution_count": 14,
     "metadata": {},
     "output_type": "execute_result"
    }
   ],
   "source": [
    "df.index.names"
   ]
  },
  {
   "cell_type": "code",
   "execution_count": 18,
   "metadata": {},
   "outputs": [],
   "source": [
    "df.index.names=[u'quarter', u'code']"
   ]
  },
  {
   "cell_type": "code",
   "execution_count": 20,
   "metadata": {},
   "outputs": [
    {
     "data": {
      "text/plain": [
       "FrozenList([u'quarter', u'code'])"
      ]
     },
     "execution_count": 20,
     "metadata": {},
     "output_type": "execute_result"
    }
   ],
   "source": [
    "df.index.names"
   ]
  },
  {
   "cell_type": "code",
   "execution_count": 32,
   "metadata": {},
   "outputs": [
    {
     "data": {
      "text/plain": [
       "name                    中国平安\n",
       "roe                    10.19\n",
       "net_profit_ratio        9.36\n",
       "gross_profit_rate    14.1248\n",
       "net_profits            43427\n",
       "eps                   2.3756\n",
       "business_income       463765\n",
       "bips                 25.3697\n",
       "Name: 601318, dtype: object"
      ]
     },
     "execution_count": 32,
     "metadata": {},
     "output_type": "execute_result"
    }
   ],
   "source": [
    "df.loc['2017-2'].loc['601318']"
   ]
  },
  {
   "cell_type": "code",
   "execution_count": 27,
   "metadata": {},
   "outputs": [
    {
     "data": {
      "text/plain": [
       "pandas.core.frame.DataFrame"
      ]
     },
     "execution_count": 27,
     "metadata": {},
     "output_type": "execute_result"
    }
   ],
   "source": [
    "type(df.loc['2017-2'])"
   ]
  },
  {
   "cell_type": "code",
   "execution_count": 34,
   "metadata": {},
   "outputs": [
    {
     "name": "stderr",
     "output_type": "stream",
     "text": [
      "/usr/local/lib/python2.7/site-packages/pandas/core/indexing.py:1367: PerformanceWarning: indexing past lexsort depth may impact performance.\n",
      "  return self._getitem_tuple(key)\n"
     ]
    },
    {
     "data": {
      "text/html": [
       "<div>\n",
       "<style scoped>\n",
       "    .dataframe tbody tr th:only-of-type {\n",
       "        vertical-align: middle;\n",
       "    }\n",
       "\n",
       "    .dataframe tbody tr th {\n",
       "        vertical-align: top;\n",
       "    }\n",
       "\n",
       "    .dataframe thead th {\n",
       "        text-align: right;\n",
       "    }\n",
       "</style>\n",
       "<table border=\"1\" class=\"dataframe\">\n",
       "  <thead>\n",
       "    <tr style=\"text-align: right;\">\n",
       "      <th></th>\n",
       "      <th></th>\n",
       "      <th>name</th>\n",
       "      <th>roe</th>\n",
       "      <th>net_profit_ratio</th>\n",
       "      <th>gross_profit_rate</th>\n",
       "      <th>net_profits</th>\n",
       "      <th>eps</th>\n",
       "      <th>business_income</th>\n",
       "      <th>bips</th>\n",
       "    </tr>\n",
       "    <tr>\n",
       "      <th>quarter</th>\n",
       "      <th>code</th>\n",
       "      <th></th>\n",
       "      <th></th>\n",
       "      <th></th>\n",
       "      <th></th>\n",
       "      <th></th>\n",
       "      <th></th>\n",
       "      <th></th>\n",
       "      <th></th>\n",
       "    </tr>\n",
       "  </thead>\n",
       "  <tbody>\n",
       "    <tr>\n",
       "      <th>2017-2</th>\n",
       "      <th>601318</th>\n",
       "      <td>中国平安</td>\n",
       "      <td>10.19</td>\n",
       "      <td>9.36</td>\n",
       "      <td>14.1248</td>\n",
       "      <td>43427.0</td>\n",
       "      <td>2.3756</td>\n",
       "      <td>463765.0</td>\n",
       "      <td>25.3697</td>\n",
       "    </tr>\n",
       "  </tbody>\n",
       "</table>\n",
       "</div>"
      ],
      "text/plain": [
       "                name    roe  net_profit_ratio  gross_profit_rate  net_profits  \\\n",
       "quarter code                                                                    \n",
       "2017-2  601318  中国平安  10.19              9.36            14.1248      43427.0   \n",
       "\n",
       "                   eps  business_income     bips  \n",
       "quarter code                                      \n",
       "2017-2  601318  2.3756         463765.0  25.3697  "
      ]
     },
     "execution_count": 34,
     "metadata": {},
     "output_type": "execute_result"
    }
   ],
   "source": [
    "df.loc[('2017-2','601318'),:]"
   ]
  },
  {
   "cell_type": "code",
   "execution_count": 35,
   "metadata": {},
   "outputs": [
    {
     "name": "stderr",
     "output_type": "stream",
     "text": [
      "/usr/local/lib/python2.7/site-packages/ipykernel_launcher.py:1: FutureWarning: sortlevel is deprecated, use sort_index(level= ...)\n",
      "  \"\"\"Entry point for launching an IPython kernel.\n"
     ]
    }
   ],
   "source": [
    "df.sortlevel(inplace=True)"
   ]
  },
  {
   "cell_type": "code",
   "execution_count": 36,
   "metadata": {},
   "outputs": [],
   "source": [
    "df.sort_index(inplace=True)"
   ]
  },
  {
   "cell_type": "code",
   "execution_count": 38,
   "metadata": {},
   "outputs": [
    {
     "data": {
      "text/html": [
       "<div>\n",
       "<style scoped>\n",
       "    .dataframe tbody tr th:only-of-type {\n",
       "        vertical-align: middle;\n",
       "    }\n",
       "\n",
       "    .dataframe tbody tr th {\n",
       "        vertical-align: top;\n",
       "    }\n",
       "\n",
       "    .dataframe thead th {\n",
       "        text-align: right;\n",
       "    }\n",
       "</style>\n",
       "<table border=\"1\" class=\"dataframe\">\n",
       "  <thead>\n",
       "    <tr style=\"text-align: right;\">\n",
       "      <th></th>\n",
       "      <th></th>\n",
       "      <th>name</th>\n",
       "      <th>roe</th>\n",
       "      <th>net_profit_ratio</th>\n",
       "      <th>gross_profit_rate</th>\n",
       "      <th>net_profits</th>\n",
       "      <th>eps</th>\n",
       "      <th>business_income</th>\n",
       "      <th>bips</th>\n",
       "    </tr>\n",
       "    <tr>\n",
       "      <th>quarter</th>\n",
       "      <th>code</th>\n",
       "      <th></th>\n",
       "      <th></th>\n",
       "      <th></th>\n",
       "      <th></th>\n",
       "      <th></th>\n",
       "      <th></th>\n",
       "      <th></th>\n",
       "      <th></th>\n",
       "    </tr>\n",
       "  </thead>\n",
       "  <tbody>\n",
       "    <tr>\n",
       "      <th>2017-2</th>\n",
       "      <th>601318</th>\n",
       "      <td>中国平安</td>\n",
       "      <td>10.19</td>\n",
       "      <td>9.36</td>\n",
       "      <td>14.1248</td>\n",
       "      <td>43427.0</td>\n",
       "      <td>2.3756</td>\n",
       "      <td>463765.0</td>\n",
       "      <td>25.3697</td>\n",
       "    </tr>\n",
       "  </tbody>\n",
       "</table>\n",
       "</div>"
      ],
      "text/plain": [
       "                name    roe  net_profit_ratio  gross_profit_rate  net_profits  \\\n",
       "quarter code                                                                    \n",
       "2017-2  601318  中国平安  10.19              9.36            14.1248      43427.0   \n",
       "\n",
       "                   eps  business_income     bips  \n",
       "quarter code                                      \n",
       "2017-2  601318  2.3756         463765.0  25.3697  "
      ]
     },
     "execution_count": 38,
     "metadata": {},
     "output_type": "execute_result"
    }
   ],
   "source": [
    "df.loc[('2017-2','601318')]"
   ]
  },
  {
   "cell_type": "code",
   "execution_count": 44,
   "metadata": {},
   "outputs": [
    {
     "data": {
      "text/html": [
       "<div>\n",
       "<style scoped>\n",
       "    .dataframe tbody tr th:only-of-type {\n",
       "        vertical-align: middle;\n",
       "    }\n",
       "\n",
       "    .dataframe tbody tr th {\n",
       "        vertical-align: top;\n",
       "    }\n",
       "\n",
       "    .dataframe thead th {\n",
       "        text-align: right;\n",
       "    }\n",
       "</style>\n",
       "<table border=\"1\" class=\"dataframe\">\n",
       "  <thead>\n",
       "    <tr style=\"text-align: right;\">\n",
       "      <th></th>\n",
       "      <th></th>\n",
       "      <th>name</th>\n",
       "      <th>roe</th>\n",
       "      <th>net_profit_ratio</th>\n",
       "      <th>gross_profit_rate</th>\n",
       "      <th>net_profits</th>\n",
       "      <th>eps</th>\n",
       "      <th>business_income</th>\n",
       "      <th>bips</th>\n",
       "    </tr>\n",
       "    <tr>\n",
       "      <th>quarter</th>\n",
       "      <th>code</th>\n",
       "      <th></th>\n",
       "      <th></th>\n",
       "      <th></th>\n",
       "      <th></th>\n",
       "      <th></th>\n",
       "      <th></th>\n",
       "      <th></th>\n",
       "      <th></th>\n",
       "    </tr>\n",
       "  </thead>\n",
       "  <tbody>\n",
       "    <tr>\n",
       "      <th>2017-2</th>\n",
       "      <th>601318</th>\n",
       "      <td>中国平安</td>\n",
       "      <td>10.19</td>\n",
       "      <td>9.36</td>\n",
       "      <td>14.1248</td>\n",
       "      <td>43427.0</td>\n",
       "      <td>2.3756</td>\n",
       "      <td>463765.0</td>\n",
       "      <td>25.3697</td>\n",
       "    </tr>\n",
       "    <tr>\n",
       "      <th>2017-3</th>\n",
       "      <th>601318</th>\n",
       "      <td>中国平安</td>\n",
       "      <td>14.79</td>\n",
       "      <td>10.00</td>\n",
       "      <td>15.1631</td>\n",
       "      <td>66318.0</td>\n",
       "      <td>3.6278</td>\n",
       "      <td>663006.0</td>\n",
       "      <td>36.2689</td>\n",
       "    </tr>\n",
       "  </tbody>\n",
       "</table>\n",
       "</div>"
      ],
      "text/plain": [
       "                name    roe  net_profit_ratio  gross_profit_rate  net_profits  \\\n",
       "quarter code                                                                    \n",
       "2017-2  601318  中国平安  10.19              9.36            14.1248      43427.0   \n",
       "2017-3  601318  中国平安  14.79             10.00            15.1631      66318.0   \n",
       "\n",
       "                   eps  business_income     bips  \n",
       "quarter code                                      \n",
       "2017-2  601318  2.3756         463765.0  25.3697  \n",
       "2017-3  601318  3.6278         663006.0  36.2689  "
      ]
     },
     "execution_count": 44,
     "metadata": {},
     "output_type": "execute_result"
    }
   ],
   "source": [
    "#https://www.somebits.com/~nelson/pandas-multiindex-slice-demo.html\n",
    "df.loc[(slice(None), '601318'),:]"
   ]
  },
  {
   "cell_type": "code",
   "execution_count": null,
   "metadata": {},
   "outputs": [],
   "source": []
  }
 ],
 "metadata": {
  "kernelspec": {
   "display_name": "Python 2",
   "language": "python",
   "name": "python2"
  },
  "language_info": {
   "codemirror_mode": {
    "name": "ipython",
    "version": 2
   },
   "file_extension": ".py",
   "mimetype": "text/x-python",
   "name": "python",
   "nbconvert_exporter": "python",
   "pygments_lexer": "ipython2",
   "version": "2.7.14"
  }
 },
 "nbformat": 4,
 "nbformat_minor": 2
}
