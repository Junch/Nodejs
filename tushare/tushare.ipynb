{
 "cells": [
  {
   "cell_type": "code",
   "execution_count": 1,
   "metadata": {},
   "outputs": [
    {
     "name": "stdout",
     "output_type": "stream",
     "text": [
      "[Getting data:]############################################################[Getting data:]############################################################"
     ]
    }
   ],
   "source": [
    "import tushare as ts\n",
    "df_basic = ts.get_stock_basics()\n",
    "df_profit = ts.get_profit_data(2017,3)\n",
    "df_report = ts.get_report_data(2017,3)"
   ]
  },
  {
   "cell_type": "code",
   "execution_count": 2,
   "metadata": {},
   "outputs": [
    {
     "data": {
      "text/plain": [
       "name                       中国平安\n",
       "industry                     保险\n",
       "area                         深圳\n",
       "pe                          7.9\n",
       "outstanding              108.33\n",
       "totals                    182.8\n",
       "totalAssets         7.41215e+08\n",
       "liquidAssets                  0\n",
       "fixedAssets          4.5455e+06\n",
       "reserved            1.30799e+07\n",
       "reservedPerShare           7.16\n",
       "esp                        2.55\n",
       "bvps                      32.77\n",
       "pb                          2.4\n",
       "timeToMarket           20070301\n",
       "undp                3.79587e+07\n",
       "perundp                   20.76\n",
       "rev                       21.81\n",
       "profit                     77.1\n",
       "gpr                           0\n",
       "npr                       12.04\n",
       "holders                  444462\n",
       "Name: 601318, dtype: object"
      ]
     },
     "execution_count": 2,
     "metadata": {},
     "output_type": "execute_result"
    }
   ],
   "source": [
    "df_basic.loc[u'601318']"
   ]
  },
  {
   "cell_type": "code",
   "execution_count": 3,
   "metadata": {},
   "outputs": [
    {
     "data": {
      "text/html": [
       "<div>\n",
       "<style scoped>\n",
       "    .dataframe tbody tr th:only-of-type {\n",
       "        vertical-align: middle;\n",
       "    }\n",
       "\n",
       "    .dataframe tbody tr th {\n",
       "        vertical-align: top;\n",
       "    }\n",
       "\n",
       "    .dataframe thead th {\n",
       "        text-align: right;\n",
       "    }\n",
       "</style>\n",
       "<table border=\"1\" class=\"dataframe\">\n",
       "  <thead>\n",
       "    <tr style=\"text-align: right;\">\n",
       "      <th></th>\n",
       "      <th>code</th>\n",
       "      <th>name</th>\n",
       "      <th>roe</th>\n",
       "      <th>net_profit_ratio</th>\n",
       "      <th>gross_profit_rate</th>\n",
       "      <th>net_profits</th>\n",
       "      <th>eps</th>\n",
       "      <th>business_income</th>\n",
       "      <th>bips</th>\n",
       "    </tr>\n",
       "  </thead>\n",
       "  <tbody>\n",
       "    <tr>\n",
       "      <th>223</th>\n",
       "      <td>601318</td>\n",
       "      <td>中国平安</td>\n",
       "      <td>14.79</td>\n",
       "      <td>10.0</td>\n",
       "      <td>15.1631</td>\n",
       "      <td>66318.0</td>\n",
       "      <td>3.6278</td>\n",
       "      <td>663006.0</td>\n",
       "      <td>36.2689</td>\n",
       "    </tr>\n",
       "  </tbody>\n",
       "</table>\n",
       "</div>"
      ],
      "text/plain": [
       "       code  name    roe  net_profit_ratio  gross_profit_rate  net_profits  \\\n",
       "223  601318  中国平安  14.79              10.0            15.1631      66318.0   \n",
       "\n",
       "        eps  business_income     bips  \n",
       "223  3.6278         663006.0  36.2689  "
      ]
     },
     "execution_count": 3,
     "metadata": {},
     "output_type": "execute_result"
    }
   ],
   "source": [
    "df_profit[df_profit.code=='601318']"
   ]
  },
  {
   "cell_type": "code",
   "execution_count": 4,
   "metadata": {},
   "outputs": [
    {
     "data": {
      "text/html": [
       "<div>\n",
       "<style scoped>\n",
       "    .dataframe tbody tr th:only-of-type {\n",
       "        vertical-align: middle;\n",
       "    }\n",
       "\n",
       "    .dataframe tbody tr th {\n",
       "        vertical-align: top;\n",
       "    }\n",
       "\n",
       "    .dataframe thead th {\n",
       "        text-align: right;\n",
       "    }\n",
       "</style>\n",
       "<table border=\"1\" class=\"dataframe\">\n",
       "  <thead>\n",
       "    <tr style=\"text-align: right;\">\n",
       "      <th></th>\n",
       "      <th>code</th>\n",
       "      <th>name</th>\n",
       "      <th>eps</th>\n",
       "      <th>eps_yoy</th>\n",
       "      <th>bvps</th>\n",
       "      <th>roe</th>\n",
       "      <th>epcf</th>\n",
       "      <th>net_profits</th>\n",
       "      <th>profits_yoy</th>\n",
       "      <th>distrib</th>\n",
       "      <th>report_date</th>\n",
       "    </tr>\n",
       "  </thead>\n",
       "  <tbody>\n",
       "    <tr>\n",
       "      <th>1446</th>\n",
       "      <td>601668</td>\n",
       "      <td>中国建筑</td>\n",
       "      <td>0.83</td>\n",
       "      <td>5.06</td>\n",
       "      <td>NaN</td>\n",
       "      <td>12.4</td>\n",
       "      <td>NaN</td>\n",
       "      <td>2578217.9</td>\n",
       "      <td>4.1</td>\n",
       "      <td>NaN</td>\n",
       "      <td>10-28</td>\n",
       "    </tr>\n",
       "    <tr>\n",
       "      <th>1502</th>\n",
       "      <td>601668</td>\n",
       "      <td>中国建筑</td>\n",
       "      <td>0.83</td>\n",
       "      <td>5.06</td>\n",
       "      <td>NaN</td>\n",
       "      <td>12.4</td>\n",
       "      <td>NaN</td>\n",
       "      <td>2578217.9</td>\n",
       "      <td>4.1</td>\n",
       "      <td>NaN</td>\n",
       "      <td>10-28</td>\n",
       "    </tr>\n",
       "  </tbody>\n",
       "</table>\n",
       "</div>"
      ],
      "text/plain": [
       "        code  name   eps  eps_yoy  bvps   roe  epcf  net_profits  profits_yoy  \\\n",
       "1446  601668  中国建筑  0.83     5.06   NaN  12.4   NaN    2578217.9          4.1   \n",
       "1502  601668  中国建筑  0.83     5.06   NaN  12.4   NaN    2578217.9          4.1   \n",
       "\n",
       "     distrib report_date  \n",
       "1446     NaN       10-28  \n",
       "1502     NaN       10-28  "
      ]
     },
     "execution_count": 4,
     "metadata": {},
     "output_type": "execute_result"
    }
   ],
   "source": [
    "df_report[df_report.code=='601668']"
   ]
  },
  {
   "cell_type": "code",
   "execution_count": null,
   "metadata": {},
   "outputs": [],
   "source": []
  }
 ],
 "metadata": {
  "kernelspec": {
   "display_name": "Python 3",
   "language": "python",
   "name": "python3"
  },
  "language_info": {
   "codemirror_mode": {
    "name": "ipython",
    "version": 3
   },
   "file_extension": ".py",
   "mimetype": "text/x-python",
   "name": "python",
   "nbconvert_exporter": "python",
   "pygments_lexer": "ipython3",
   "version": "3.7.1"
  }
 },
 "nbformat": 4,
 "nbformat_minor": 2
}
