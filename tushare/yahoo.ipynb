{
 "cells": [
  {
   "cell_type": "code",
   "execution_count": 1,
   "metadata": {
    "scrolled": true
   },
   "outputs": [
    {
     "data": {
      "text/html": [
       "<div>\n",
       "<style scoped>\n",
       "    .dataframe tbody tr th:only-of-type {\n",
       "        vertical-align: middle;\n",
       "    }\n",
       "\n",
       "    .dataframe tbody tr th {\n",
       "        vertical-align: top;\n",
       "    }\n",
       "\n",
       "    .dataframe thead th {\n",
       "        text-align: right;\n",
       "    }\n",
       "</style>\n",
       "<table border=\"1\" class=\"dataframe\">\n",
       "  <thead>\n",
       "    <tr style=\"text-align: right;\">\n",
       "      <th></th>\n",
       "      <th>Open</th>\n",
       "      <th>High</th>\n",
       "      <th>Low</th>\n",
       "      <th>Close</th>\n",
       "      <th>Adj Close</th>\n",
       "      <th>Volume</th>\n",
       "    </tr>\n",
       "    <tr>\n",
       "      <th>Date</th>\n",
       "      <th></th>\n",
       "      <th></th>\n",
       "      <th></th>\n",
       "      <th></th>\n",
       "      <th></th>\n",
       "      <th></th>\n",
       "    </tr>\n",
       "  </thead>\n",
       "  <tbody>\n",
       "    <tr>\n",
       "      <th>2018-01-02</th>\n",
       "      <td>70.209999</td>\n",
       "      <td>72.800003</td>\n",
       "      <td>70.180000</td>\n",
       "      <td>72.589996</td>\n",
       "      <td>72.589996</td>\n",
       "      <td>123616317</td>\n",
       "    </tr>\n",
       "    <tr>\n",
       "      <th>2018-01-03</th>\n",
       "      <td>73.400002</td>\n",
       "      <td>73.900002</td>\n",
       "      <td>70.110001</td>\n",
       "      <td>70.970001</td>\n",
       "      <td>70.970001</td>\n",
       "      <td>179405492</td>\n",
       "    </tr>\n",
       "    <tr>\n",
       "      <th>2018-01-04</th>\n",
       "      <td>71.019997</td>\n",
       "      <td>72.199997</td>\n",
       "      <td>70.550003</td>\n",
       "      <td>71.180000</td>\n",
       "      <td>71.180000</td>\n",
       "      <td>106115784</td>\n",
       "    </tr>\n",
       "    <tr>\n",
       "      <th>2018-01-05</th>\n",
       "      <td>71.589996</td>\n",
       "      <td>71.879997</td>\n",
       "      <td>70.449997</td>\n",
       "      <td>70.889999</td>\n",
       "      <td>70.889999</td>\n",
       "      <td>77207581</td>\n",
       "    </tr>\n",
       "    <tr>\n",
       "      <th>2018-01-08</th>\n",
       "      <td>70.790001</td>\n",
       "      <td>70.790001</td>\n",
       "      <td>69.320000</td>\n",
       "      <td>70.010002</td>\n",
       "      <td>70.010002</td>\n",
       "      <td>122872953</td>\n",
       "    </tr>\n",
       "  </tbody>\n",
       "</table>\n",
       "</div>"
      ],
      "text/plain": [
       "                 Open       High        Low      Close  Adj Close     Volume\n",
       "Date                                                                        \n",
       "2018-01-02  70.209999  72.800003  70.180000  72.589996  72.589996  123616317\n",
       "2018-01-03  73.400002  73.900002  70.110001  70.970001  70.970001  179405492\n",
       "2018-01-04  71.019997  72.199997  70.550003  71.180000  71.180000  106115784\n",
       "2018-01-05  71.589996  71.879997  70.449997  70.889999  70.889999   77207581\n",
       "2018-01-08  70.790001  70.790001  69.320000  70.010002  70.010002  122872953"
      ]
     },
     "execution_count": 1,
     "metadata": {},
     "output_type": "execute_result"
    }
   ],
   "source": [
    "import pandas as pd\n",
    "import numpy as np\n",
    "from pandas_datareader import data, wb # 需要安装 pip install pandas_datareader\n",
    "import datetime\n",
    "import matplotlib\n",
    "import matplotlib.pyplot as plt\n",
    "#matplotlib.style.use('ggplot')\n",
    "#%matplotlib inline\n",
    "#%pylab inline\n",
    "#%config InlineBackend.figure_format = 'retina'\n",
    "\n",
    "# 定义获取数据的时间段\n",
    "start = datetime.datetime(2018, 1, 1)\n",
    "end = datetime.date.today()\n",
    "\n",
    "# 获取股票信息 ex: 中国石油\n",
    "# 如果要看上证指数请参考换成600000.ss\n",
    "# 如果要看深成指请换成000001.sz\n",
    "cnpc = data.DataReader(\"601318.SS\", 'yahoo', start, end)\n",
    "\n",
    "cnpc.head(5)"
   ]
  },
  {
   "cell_type": "code",
   "execution_count": 2,
   "metadata": {},
   "outputs": [
    {
     "data": {
      "text/html": [
       "<div>\n",
       "<style scoped>\n",
       "    .dataframe tbody tr th:only-of-type {\n",
       "        vertical-align: middle;\n",
       "    }\n",
       "\n",
       "    .dataframe tbody tr th {\n",
       "        vertical-align: top;\n",
       "    }\n",
       "\n",
       "    .dataframe thead th {\n",
       "        text-align: right;\n",
       "    }\n",
       "</style>\n",
       "<table border=\"1\" class=\"dataframe\">\n",
       "  <thead>\n",
       "    <tr style=\"text-align: right;\">\n",
       "      <th></th>\n",
       "      <th>Open</th>\n",
       "      <th>High</th>\n",
       "      <th>Low</th>\n",
       "      <th>Close</th>\n",
       "      <th>Adj Close</th>\n",
       "      <th>Volume</th>\n",
       "    </tr>\n",
       "    <tr>\n",
       "      <th>Date</th>\n",
       "      <th></th>\n",
       "      <th></th>\n",
       "      <th></th>\n",
       "      <th></th>\n",
       "      <th></th>\n",
       "      <th></th>\n",
       "    </tr>\n",
       "  </thead>\n",
       "  <tbody>\n",
       "    <tr>\n",
       "      <th>2018-01-16</th>\n",
       "      <td>77.680000</td>\n",
       "      <td>79.480003</td>\n",
       "      <td>77.199997</td>\n",
       "      <td>77.809998</td>\n",
       "      <td>77.809998</td>\n",
       "      <td>150164317</td>\n",
       "    </tr>\n",
       "    <tr>\n",
       "      <th>2018-01-17</th>\n",
       "      <td>78.099998</td>\n",
       "      <td>79.349998</td>\n",
       "      <td>76.500000</td>\n",
       "      <td>77.339996</td>\n",
       "      <td>77.339996</td>\n",
       "      <td>141357416</td>\n",
       "    </tr>\n",
       "    <tr>\n",
       "      <th>2018-01-18</th>\n",
       "      <td>78.559998</td>\n",
       "      <td>80.110001</td>\n",
       "      <td>77.080002</td>\n",
       "      <td>77.610001</td>\n",
       "      <td>77.610001</td>\n",
       "      <td>207447138</td>\n",
       "    </tr>\n",
       "    <tr>\n",
       "      <th>2018-01-19</th>\n",
       "      <td>78.300003</td>\n",
       "      <td>79.059998</td>\n",
       "      <td>76.889999</td>\n",
       "      <td>77.589996</td>\n",
       "      <td>77.589996</td>\n",
       "      <td>155380912</td>\n",
       "    </tr>\n",
       "    <tr>\n",
       "      <th>2018-01-22</th>\n",
       "      <td>77.110001</td>\n",
       "      <td>79.199997</td>\n",
       "      <td>77.050003</td>\n",
       "      <td>78.739998</td>\n",
       "      <td>78.739998</td>\n",
       "      <td>121588286</td>\n",
       "    </tr>\n",
       "  </tbody>\n",
       "</table>\n",
       "</div>"
      ],
      "text/plain": [
       "                 Open       High        Low      Close  Adj Close     Volume\n",
       "Date                                                                        \n",
       "2018-01-16  77.680000  79.480003  77.199997  77.809998  77.809998  150164317\n",
       "2018-01-17  78.099998  79.349998  76.500000  77.339996  77.339996  141357416\n",
       "2018-01-18  78.559998  80.110001  77.080002  77.610001  77.610001  207447138\n",
       "2018-01-19  78.300003  79.059998  76.889999  77.589996  77.589996  155380912\n",
       "2018-01-22  77.110001  79.199997  77.050003  78.739998  78.739998  121588286"
      ]
     },
     "execution_count": 2,
     "metadata": {},
     "output_type": "execute_result"
    }
   ],
   "source": [
    "cnpc.tail(5)"
   ]
  },
  {
   "cell_type": "code",
   "execution_count": 3,
   "metadata": {},
   "outputs": [
    {
     "data": {
      "text/html": [
       "<div>\n",
       "<style scoped>\n",
       "    .dataframe tbody tr th:only-of-type {\n",
       "        vertical-align: middle;\n",
       "    }\n",
       "\n",
       "    .dataframe tbody tr th {\n",
       "        vertical-align: top;\n",
       "    }\n",
       "\n",
       "    .dataframe thead th {\n",
       "        text-align: right;\n",
       "    }\n",
       "</style>\n",
       "<table border=\"1\" class=\"dataframe\">\n",
       "  <thead>\n",
       "    <tr style=\"text-align: right;\">\n",
       "      <th></th>\n",
       "      <th>Open</th>\n",
       "      <th>High</th>\n",
       "      <th>Low</th>\n",
       "      <th>Close</th>\n",
       "      <th>Adj Close</th>\n",
       "      <th>Volume</th>\n",
       "    </tr>\n",
       "  </thead>\n",
       "  <tbody>\n",
       "    <tr>\n",
       "      <th>count</th>\n",
       "      <td>15.000000</td>\n",
       "      <td>15.000000</td>\n",
       "      <td>15.000000</td>\n",
       "      <td>15.000000</td>\n",
       "      <td>15.000000</td>\n",
       "      <td>1.500000e+01</td>\n",
       "    </tr>\n",
       "    <tr>\n",
       "      <th>mean</th>\n",
       "      <td>73.848000</td>\n",
       "      <td>75.256000</td>\n",
       "      <td>72.983333</td>\n",
       "      <td>74.202000</td>\n",
       "      <td>74.202000</td>\n",
       "      <td>1.353648e+08</td>\n",
       "    </tr>\n",
       "    <tr>\n",
       "      <th>std</th>\n",
       "      <td>3.278162</td>\n",
       "      <td>3.524929</td>\n",
       "      <td>3.212199</td>\n",
       "      <td>3.198318</td>\n",
       "      <td>3.198318</td>\n",
       "      <td>3.815468e+07</td>\n",
       "    </tr>\n",
       "    <tr>\n",
       "      <th>min</th>\n",
       "      <td>70.209999</td>\n",
       "      <td>70.790001</td>\n",
       "      <td>69.320000</td>\n",
       "      <td>70.010002</td>\n",
       "      <td>70.010002</td>\n",
       "      <td>7.720758e+07</td>\n",
       "    </tr>\n",
       "    <tr>\n",
       "      <th>25%</th>\n",
       "      <td>71.035000</td>\n",
       "      <td>72.140000</td>\n",
       "      <td>70.314999</td>\n",
       "      <td>71.450001</td>\n",
       "      <td>71.450001</td>\n",
       "      <td>1.156086e+08</td>\n",
       "    </tr>\n",
       "    <tr>\n",
       "      <th>50%</th>\n",
       "      <td>72.660004</td>\n",
       "      <td>73.900002</td>\n",
       "      <td>71.000000</td>\n",
       "      <td>72.650002</td>\n",
       "      <td>72.650002</td>\n",
       "      <td>1.239491e+08</td>\n",
       "    </tr>\n",
       "    <tr>\n",
       "      <th>75%</th>\n",
       "      <td>77.395001</td>\n",
       "      <td>79.129998</td>\n",
       "      <td>76.694999</td>\n",
       "      <td>77.599998</td>\n",
       "      <td>77.599998</td>\n",
       "      <td>1.527726e+08</td>\n",
       "    </tr>\n",
       "    <tr>\n",
       "      <th>max</th>\n",
       "      <td>78.559998</td>\n",
       "      <td>80.110001</td>\n",
       "      <td>77.199997</td>\n",
       "      <td>78.739998</td>\n",
       "      <td>78.739998</td>\n",
       "      <td>2.074471e+08</td>\n",
       "    </tr>\n",
       "  </tbody>\n",
       "</table>\n",
       "</div>"
      ],
      "text/plain": [
       "            Open       High        Low      Close  Adj Close        Volume\n",
       "count  15.000000  15.000000  15.000000  15.000000  15.000000  1.500000e+01\n",
       "mean   73.848000  75.256000  72.983333  74.202000  74.202000  1.353648e+08\n",
       "std     3.278162   3.524929   3.212199   3.198318   3.198318  3.815468e+07\n",
       "min    70.209999  70.790001  69.320000  70.010002  70.010002  7.720758e+07\n",
       "25%    71.035000  72.140000  70.314999  71.450001  71.450001  1.156086e+08\n",
       "50%    72.660004  73.900002  71.000000  72.650002  72.650002  1.239491e+08\n",
       "75%    77.395001  79.129998  76.694999  77.599998  77.599998  1.527726e+08\n",
       "max    78.559998  80.110001  77.199997  78.739998  78.739998  2.074471e+08"
      ]
     },
     "execution_count": 3,
     "metadata": {},
     "output_type": "execute_result"
    }
   ],
   "source": [
    "cnpc.describe()"
   ]
  },
  {
   "cell_type": "code",
   "execution_count": 4,
   "metadata": {},
   "outputs": [
    {
     "data": {
      "text/plain": [
       "Index([u'Open', u'High', u'Low', u'Close', u'Adj Close', u'Volume'], dtype='object')"
      ]
     },
     "execution_count": 4,
     "metadata": {},
     "output_type": "execute_result"
    }
   ],
   "source": [
    "cnpc.columns"
   ]
  },
  {
   "cell_type": "code",
   "execution_count": 19,
   "metadata": {},
   "outputs": [
    {
     "data": {
      "text/plain": [
       "pandas.core.series.Series"
      ]
     },
     "execution_count": 19,
     "metadata": {},
     "output_type": "execute_result"
    }
   ],
   "source": [
    "type(cnpc['Close'])"
   ]
  },
  {
   "cell_type": "code",
   "execution_count": 5,
   "metadata": {},
   "outputs": [
    {
     "data": {
      "text/plain": [
       "<matplotlib.axes._subplots.AxesSubplot at 0x1066b5590>"
      ]
     },
     "execution_count": 5,
     "metadata": {},
     "output_type": "execute_result"
    },
    {
     "data": {
      "image/png": "[encoded data removed]",
      "text/plain": [
       "<matplotlib.figure.Figure at 0x106626a50>"
      ]
     },
     "metadata": {},
     "output_type": "display_data"
    }
   ],
   "source": [
    "cnpc['Close'].plot()"
   ]
  },
  {
   "cell_type": "code",
   "execution_count": null,
   "metadata": {},
   "outputs": [],
   "source": []
  }
 ],
 "metadata": {
  "kernelspec": {
   "display_name": "Python 2",
   "language": "python",
   "name": "python2"
  },
  "language_info": {
   "codemirror_mode": {
    "name": "ipython",
    "version": 2
   },
   "file_extension": ".py",
   "mimetype": "text/x-python",
   "name": "python",
   "nbconvert_exporter": "python",
   "pygments_lexer": "ipython2",
   "version": "2.7.14"
  }
 },
 "nbformat": 4,
 "nbformat_minor": 2
}
